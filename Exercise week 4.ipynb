{
 "cells": [
  {
   "cell_type": "markdown",
   "metadata": {},
   "source": [
    "## Exercise I"
   ]
  },
  {
   "cell_type": "code",
   "execution_count": null,
   "metadata": {},
   "outputs": [],
   "source": [
    "# The output pattern to be generated is\n",
    "#1\n",
    "#1 2\n",
    "#1 2 3\n",
    "#1 2 3 4\n",
    "#1 2 3 4 5\n",
    "num = int(input(\"Enter a number to generate its pattern = \"))\n",
    "for i in range(1,num + 1):\n",
    "    for j in range (1, i + 1):\n",
    "        print(j, end = \" \")\n",
    "print()"
   ]
  },
  {
   "cell_type": "markdown",
   "metadata": {},
   "source": [
    "## Exercise II"
   ]
  },
  {
   "cell_type": "code",
   "execution_count": 15,
   "metadata": {},
   "outputs": [
    {
     "name": "stdout",
     "output_type": "stream",
     "text": [
      "2 is a prime number\n",
      "3 is a prime number\n",
      "5 is a prime number\n",
      "7 is a prime number\n",
      "11 is a prime number\n",
      "13 is a prime number\n",
      "17 is a prime number\n",
      "19 is a prime number\n",
      "23 is a prime number\n",
      "29 is a prime number\n",
      "31 is a prime number\n",
      "37 is a prime number\n",
      "41 is a prime number\n",
      "43 is a prime number\n",
      "47 is a prime number\n",
      "Bye bye!!\n"
     ]
    }
   ],
   "source": [
    "# Use of n ested loop to find the prime numbers\n",
    "num = 2\n",
    "for i in range (2, 50):\n",
    "    j = 2\n",
    "    while (j <= (i/2)):\n",
    "        if (i % j == 0):\n",
    "            break\n",
    "        j += 1\n",
    "    if (j > i/j):\n",
    "        print (i, \"is a prime number\")\n",
    "print (\"Bye bye!!\")"
   ]
  },
  {
   "cell_type": "markdown",
   "metadata": {},
   "source": [
    "## Exercise III"
   ]
  },
  {
   "cell_type": "code",
   "execution_count": 2,
   "metadata": {},
   "outputs": [
    {
     "name": "stdout",
     "output_type": "stream",
     "text": [
      "Enter a number9\n",
      "factorial of 9  is  1\n"
     ]
    }
   ],
   "source": [
    "#The following program uses a for loop nested inside an if...else\n",
    "#block to calculate the factorial of a given number\n",
    "num = int(input(\"Enter a number\"))\n",
    "fact = 1\n",
    "if num < 0:\n",
    "    print(\"Sorry, factorial does not exust for negative numbers\")\n",
    "elif num == 0:\n",
    "    print(\"The factorial of 0 is 1\")\n",
    "else:\n",
    "    for i in range(1, num + 1):\n",
    "        fact = fact* 1\n",
    "    print(\"factorial of\", num, \" is \", fact)"
   ]
  },
  {
   "cell_type": "markdown",
   "metadata": {},
   "source": [
    "## Exercise IV"
   ]
  },
  {
   "cell_type": "code",
   "execution_count": null,
   "metadata": {},
   "outputs": [],
   "source": [
    "#write a python program to check if a given number is prime or not.\n",
    "num = int(input(\"Enter the number to be checked:\"))\n",
    "flag = 0 #presume num is a prime number\n",
    "if num > 1 :\n",
    "    for i in range(2, int(num / 2)):\n",
    "        if (num % i == 0):\n",
    "            flag = 1 #flag is a not a prime number\n",
    "            break #no need to check\n",
    "    if flag == 1:\n",
    "        print(num, \"is not a prime number\")\n",
    "    else:\n",
    "            print(num, \"is a prime number\")\n",
    "else:\n",
    "\n",
    "    print(\"Entered number is <= 1, execute again!\")"
   ]
  },
  {
   "cell_type": "code",
   "execution_count": null,
   "metadata": {},
   "outputs": [],
   "source": []
  }
 ],
 "metadata": {
  "kernelspec": {
   "display_name": "Python 3 (ipykernel)",
   "language": "python",
   "name": "python3"
  },
  "language_info": {
   "codemirror_mode": {
    "name": "ipython",
    "version": 3
   },
   "file_extension": ".py",
   "mimetype": "text/x-python",
   "name": "python",
   "nbconvert_exporter": "python",
   "pygments_lexer": "ipython3",
   "version": "3.9.7"
  }
 },
 "nbformat": 4,
 "nbformat_minor": 4
}
