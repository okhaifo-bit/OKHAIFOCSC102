{
 "cells": [
  {
   "cell_type": "code",
   "execution_count": 36,
   "metadata": {},
   "outputs": [
    {
     "name": "stdout",
     "output_type": "stream",
     "text": [
      "Welcome to python programming\n",
      "100\n"
     ]
    }
   ],
   "source": [
    "num = 100\n",
    "str = \"Welcome to python programming\"\n",
    "print (str)\n",
    "print (num)"
   ]
  },
  {
   "cell_type": "code",
   "execution_count": 38,
   "metadata": {},
   "outputs": [
    {
     "name": "stdout",
     "output_type": "stream",
     "text": [
      "987\n",
      "985\n",
      "1974\n",
      "3948\n"
     ]
    }
   ],
   "source": [
    "x = y = z = 987\n",
    "print (x)\n",
    "print (y-2)\n",
    "print (z*2)\n",
    "print (x + y*3)"
   ]
  },
  {
   "cell_type": "code",
   "execution_count": 48,
   "metadata": {},
   "outputs": [
    {
     "name": "stdout",
     "output_type": "stream",
     "text": [
      "Welcome to CSC102 class\n",
      "Put away all gadgets and pay attention\n"
     ]
    }
   ],
   "source": [
    "p = \"Welcome to CSC102 class\"\n",
    "q = \"Put away all gadgets\"\n",
    "str = \" and pay attention\"\n",
    "f\n",
    "print (p)\n",
    "print (q + str)"
   ]
  },
  {
   "cell_type": "code",
   "execution_count": 53,
   "metadata": {},
   "outputs": [
    {
     "name": "stdout",
     "output_type": "stream",
     "text": [
      "1000\n",
      "Data Type of variable is <class 'int'>\n"
     ]
    }
   ],
   "source": [
    "# Integer number\n",
    "num = 1000\n",
    "print (num)\n",
    "print (\"Data Type of variable is\", type(num))"
   ]
  },
  {
   "cell_type": "code",
   "execution_count": 60,
   "metadata": {},
   "outputs": [
    {
     "name": "stdout",
     "output_type": "stream",
     "text": [
      "(3+6j)\n",
      "<class 'complex'>\n"
     ]
    }
   ],
   "source": [
    "# Complex number\n",
    "num = 3 + 6j\n",
    "print (num)\n",
    "print(type(num))"
   ]
  },
  {
   "cell_type": "code",
   "execution_count": 61,
   "metadata": {},
   "outputs": [
    {
     "name": "stdout",
     "output_type": "stream",
     "text": [
      "0.9989764\n",
      "<class 'float'>\n"
     ]
    }
   ],
   "source": [
    "num = (0.9989764)\n",
    "print (num)\n",
    "print (type(num))"
   ]
  },
  {
   "cell_type": "code",
   "execution_count": 63,
   "metadata": {},
   "outputs": [
    {
     "name": "stdout",
     "output_type": "stream",
     "text": [
      "My name is Okhaifo\n",
      "<class 'str'>\n",
      "My name is Okhaifo\n",
      "I'm a student of PAU\n"
     ]
    }
   ],
   "source": [
    "# Program to print string and type\n",
    "str1 = \"My name is Okhaifo\"\n",
    "str2 = \"I'm a student of PAU\"\n",
    "print (str1)\n",
    "print (type(str1))\n",
    "print (str1)\n",
    "print (str2)"
   ]
  },
  {
   "cell_type": "code",
   "execution_count": 66,
   "metadata": {},
   "outputs": [
    {
     "name": "stdout",
     "output_type": "stream",
     "text": [
      "(1, 2, 3, 4)\n"
     ]
    }
   ],
   "source": [
    "# tuple of integers\n",
    "t1 = (1, 2, 3, 4)\n",
    "print (t1)"
   ]
  },
  {
   "cell_type": "code",
   "execution_count": 71,
   "metadata": {},
   "outputs": [
    {
     "name": "stdout",
     "output_type": "stream",
     "text": [
      "Mandem\n"
     ]
    }
   ],
   "source": [
    "t4 = (2, \"Okhaifo\", \"Jamie\", 65, \"Mandem\")\n",
    "print(t4[4])"
   ]
  },
  {
   "cell_type": "code",
   "execution_count": 85,
   "metadata": {},
   "outputs": [
    {
     "name": "stdout",
     "output_type": "stream",
     "text": [
      "25\n"
     ]
    }
   ],
   "source": [
    "dict = {1:\"Okhaifo\", \"lastname\": \"Ojeikere\", \"age\": 25 }\n",
    "print (dict[\"age\"])"
   ]
  },
  {
   "cell_type": "code",
   "execution_count": null,
   "metadata": {},
   "outputs": [],
   "source": [
    "# Set example\n"
   ]
  }
 ],
 "metadata": {
  "kernelspec": {
   "display_name": "Python 3",
   "language": "python",
   "name": "python3"
  },
  "language_info": {
   "codemirror_mode": {
    "name": "ipython",
    "version": 3
   },
   "file_extension": ".py",
   "mimetype": "text/x-python",
   "name": "python",
   "nbconvert_exporter": "python",
   "pygments_lexer": "ipython3",
   "version": "3.8.5"
  }
 },
 "nbformat": 4,
 "nbformat_minor": 4
}
